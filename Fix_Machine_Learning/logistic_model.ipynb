{
 "cells": [
  {
   "cell_type": "code",
   "execution_count": 4,
   "id": "39ef8509-4552-4d2e-9782-b783c6b32e4e",
   "metadata": {},
   "outputs": [],
   "source": [
    "import pandas as pd\n",
    "import numpy as np\n",
    "import matplotlib.pyplot as plt\n",
    "import seaborn as sns\n",
    "from sklearn.model_selection import train_test_split\n",
    "from sklearn.linear_model import LogisticRegression\n",
    "from sklearn.preprocessing import StandardScaler\n",
    "from sklearn.metrics import accuracy_score, classification_report, confusion_matrix"
   ]
  },
  {
   "cell_type": "code",
   "execution_count": 5,
   "id": "7679744d-1d40-4ee9-929a-9e56a7ee4c70",
   "metadata": {
    "scrolled": true
   },
   "outputs": [],
   "source": [
    "df = pd.read_csv(\"ObesityDataSet_raw_and_data_sinthetic.csv\")"
   ]
  },
  {
   "cell_type": "code",
   "execution_count": 6,
   "id": "444b9e87-db00-498f-9fb7-0fd323939dca",
   "metadata": {},
   "outputs": [
    {
     "data": {
      "text/html": [
       "<div>\n",
       "<style scoped>\n",
       "    .dataframe tbody tr th:only-of-type {\n",
       "        vertical-align: middle;\n",
       "    }\n",
       "\n",
       "    .dataframe tbody tr th {\n",
       "        vertical-align: top;\n",
       "    }\n",
       "\n",
       "    .dataframe thead th {\n",
       "        text-align: right;\n",
       "    }\n",
       "</style>\n",
       "<table border=\"1\" class=\"dataframe\">\n",
       "  <thead>\n",
       "    <tr style=\"text-align: right;\">\n",
       "      <th></th>\n",
       "      <th>Gender</th>\n",
       "      <th>Age</th>\n",
       "      <th>Height</th>\n",
       "      <th>Weight</th>\n",
       "      <th>family_history_with_overweight</th>\n",
       "      <th>FAVC</th>\n",
       "      <th>FCVC</th>\n",
       "      <th>NCP</th>\n",
       "      <th>CAEC</th>\n",
       "      <th>SMOKE</th>\n",
       "      <th>CH2O</th>\n",
       "      <th>SCC</th>\n",
       "      <th>FAF</th>\n",
       "      <th>TUE</th>\n",
       "      <th>CALC</th>\n",
       "      <th>MTRANS</th>\n",
       "      <th>NObeyesdad</th>\n",
       "    </tr>\n",
       "  </thead>\n",
       "  <tbody>\n",
       "    <tr>\n",
       "      <th>0</th>\n",
       "      <td>Female</td>\n",
       "      <td>21</td>\n",
       "      <td>1.62</td>\n",
       "      <td>64.0</td>\n",
       "      <td>yes</td>\n",
       "      <td>no</td>\n",
       "      <td>2.0</td>\n",
       "      <td>3.0</td>\n",
       "      <td>Sometimes</td>\n",
       "      <td>no</td>\n",
       "      <td>2.0</td>\n",
       "      <td>no</td>\n",
       "      <td>0.0</td>\n",
       "      <td>1.0</td>\n",
       "      <td>no</td>\n",
       "      <td>Public_Transportation</td>\n",
       "      <td>Normal_Weight</td>\n",
       "    </tr>\n",
       "    <tr>\n",
       "      <th>1</th>\n",
       "      <td>Female</td>\n",
       "      <td>21</td>\n",
       "      <td>1.52</td>\n",
       "      <td>56.0</td>\n",
       "      <td>yes</td>\n",
       "      <td>no</td>\n",
       "      <td>3.0</td>\n",
       "      <td>3.0</td>\n",
       "      <td>Sometimes</td>\n",
       "      <td>yes</td>\n",
       "      <td>3.0</td>\n",
       "      <td>yes</td>\n",
       "      <td>3.0</td>\n",
       "      <td>0.0</td>\n",
       "      <td>Sometimes</td>\n",
       "      <td>Public_Transportation</td>\n",
       "      <td>Normal_Weight</td>\n",
       "    </tr>\n",
       "    <tr>\n",
       "      <th>2</th>\n",
       "      <td>Male</td>\n",
       "      <td>23</td>\n",
       "      <td>1.80</td>\n",
       "      <td>77.0</td>\n",
       "      <td>yes</td>\n",
       "      <td>no</td>\n",
       "      <td>2.0</td>\n",
       "      <td>3.0</td>\n",
       "      <td>Sometimes</td>\n",
       "      <td>no</td>\n",
       "      <td>2.0</td>\n",
       "      <td>no</td>\n",
       "      <td>2.0</td>\n",
       "      <td>1.0</td>\n",
       "      <td>Frequently</td>\n",
       "      <td>Public_Transportation</td>\n",
       "      <td>Normal_Weight</td>\n",
       "    </tr>\n",
       "    <tr>\n",
       "      <th>3</th>\n",
       "      <td>Male</td>\n",
       "      <td>27</td>\n",
       "      <td>1.80</td>\n",
       "      <td>87.0</td>\n",
       "      <td>no</td>\n",
       "      <td>no</td>\n",
       "      <td>3.0</td>\n",
       "      <td>3.0</td>\n",
       "      <td>Sometimes</td>\n",
       "      <td>no</td>\n",
       "      <td>2.0</td>\n",
       "      <td>no</td>\n",
       "      <td>2.0</td>\n",
       "      <td>0.0</td>\n",
       "      <td>Frequently</td>\n",
       "      <td>Walking</td>\n",
       "      <td>Overweight_Level_I</td>\n",
       "    </tr>\n",
       "  </tbody>\n",
       "</table>\n",
       "</div>"
      ],
      "text/plain": [
       "   Gender  Age  Height  Weight family_history_with_overweight FAVC  FCVC  NCP  \\\n",
       "0  Female   21    1.62    64.0                            yes   no   2.0  3.0   \n",
       "1  Female   21    1.52    56.0                            yes   no   3.0  3.0   \n",
       "2    Male   23    1.80    77.0                            yes   no   2.0  3.0   \n",
       "3    Male   27    1.80    87.0                             no   no   3.0  3.0   \n",
       "\n",
       "        CAEC SMOKE  CH2O  SCC  FAF  TUE        CALC                 MTRANS  \\\n",
       "0  Sometimes    no   2.0   no  0.0  1.0          no  Public_Transportation   \n",
       "1  Sometimes   yes   3.0  yes  3.0  0.0   Sometimes  Public_Transportation   \n",
       "2  Sometimes    no   2.0   no  2.0  1.0  Frequently  Public_Transportation   \n",
       "3  Sometimes    no   2.0   no  2.0  0.0  Frequently                Walking   \n",
       "\n",
       "           NObeyesdad  \n",
       "0       Normal_Weight  \n",
       "1       Normal_Weight  \n",
       "2       Normal_Weight  \n",
       "3  Overweight_Level_I  "
      ]
     },
     "execution_count": 6,
     "metadata": {},
     "output_type": "execute_result"
    }
   ],
   "source": [
    "df.head(4)"
   ]
  },
  {
   "cell_type": "markdown",
   "id": "d9fffbfc-d419-4982-9b7e-68e4cc2b4358",
   "metadata": {},
   "source": [
    "## dataset analysis and visualization ##"
   ]
  },
  {
   "cell_type": "code",
   "execution_count": null,
   "id": "ab286057-2805-44ba-a409-054bbe3f5823",
   "metadata": {},
   "outputs": [],
   "source": [
    "new_csv = df\n",
    "\n",
    "new_csv['SCC'] = new_csv['SCC'].map({'yes':1, 'no':0})\n",
    "new_csv['FAVC'] = new_csv['FAVC'].map({'yes':1, 'no':0})\n",
    "new_csv['family_history_with_overweight'] = new_csv['family_history_with_overweight'].map({'yes':1, 'no':0})\n",
    "new_csv['SMOKE'] = new_csv['SMOKE'].map({'yes':1, 'no':0})\n",
    "new_csv['CAEC'] = new_csv['CAEC'].map({'Sometimes':1, 'no':0, 'Frequently':2, 'Always':3})\n",
    "new_csv['CALC'] = new_csv['CALC'].map({'Sometimes':1, 'no':0, 'Frequently':2, 'Always':3})\n",
    "new_csv['MTRANS'] = new_csv['MTRANS'].map({'Automobile':0, 'Bike':1, 'Motorbike':2, 'Public_Transportation':3, 'Walking':4})\n",
    "new_csv['Gender'] = new_csv['Gender'].map({'Male':0, 'Female':1})\n",
    "new_csv['NObeyesdad'] = new_csv['NObeyesdad'].map({'Insufficient_Weight':0, 'Normal_Weight':1, 'Overweight_Level_I':2, 'Overweight_Level_II':2, 'Obesity_Type_I':3, 'Obesity_Type_II':4, 'Obesity_Type_III':4})\n",
    "\n",
    "new_csv.to_csv('Obesitas Dataset (clean).csv', index=False)"
   ]
  },
  {
   "cell_type": "code",
   "execution_count": 73,
   "id": "8c7e0e13-4fe2-4f17-9353-4812da38fe56",
   "metadata": {},
   "outputs": [
    {
     "data": {
      "text/plain": [
       "Gender                            0\n",
       "Age                               0\n",
       "Height                            0\n",
       "Weight                            0\n",
       "family_history_with_overweight    0\n",
       "FAVC                              0\n",
       "FCVC                              0\n",
       "NCP                               0\n",
       "CAEC                              0\n",
       "SMOKE                             0\n",
       "CH2O                              0\n",
       "SCC                               0\n",
       "FAF                               0\n",
       "TUE                               0\n",
       "CALC                              0\n",
       "MTRANS                            0\n",
       "NObeyesdad                        0\n",
       "dtype: int64"
      ]
     },
     "execution_count": 73,
     "metadata": {},
     "output_type": "execute_result"
    }
   ],
   "source": [
    "# df = df.fillna(0)\n",
    "new_csv.isnull().sum()"
   ]
  },
  {
   "cell_type": "markdown",
   "id": "579b7adb-ade2-46cf-b337-df393f382837",
   "metadata": {},
   "source": [
    "## SPLIT FITUR DAN LABEL"
   ]
  },
  {
   "cell_type": "code",
   "execution_count": 74,
   "id": "f4d2349d-21b9-49d8-ab0d-75a473409eed",
   "metadata": {},
   "outputs": [],
   "source": [
    "features = [\"Gender\", \"Age\", \"Height\", \"Weight\", \"family_history_with_overweight\", \"FAVC\", \"FCVC\", \"NCP\", \"CAEC\", \"SMOKE\", \"CH2O\", \"SCC\", \"FAF\", \"TUE\", \"CALC\", \"MTRANS\"]\n",
    "X = new_csv[features]\n",
    "y = new_csv[\"NObeyesdad\"]\n",
    "X_train, X_test, y_train, y_test = train_test_split(X, y, test_size=0.25, random_state=16)"
   ]
  },
  {
   "cell_type": "markdown",
   "id": "5a117c7b-6580-4434-92fb-87f0b9baa9b4",
   "metadata": {},
   "source": [
    "## NORMALISASI DATA"
   ]
  },
  {
   "cell_type": "code",
   "execution_count": 75,
   "id": "ff22ea44-7599-4e9b-90bd-e60d843eff4c",
   "metadata": {},
   "outputs": [],
   "source": [
    "scaler = StandardScaler()\n",
    "X_train = scaler.fit_transform(X_train)\n",
    "X_test = scaler.transform(X_test)"
   ]
  },
  {
   "cell_type": "markdown",
   "id": "61277da8-0fd4-4355-b21d-9e57814422a0",
   "metadata": {},
   "source": [
    "## Membuat Model Dengan Algoritma Logistik Regresi"
   ]
  },
  {
   "cell_type": "code",
   "execution_count": 76,
   "id": "9bacd452-b216-4cef-ac2d-9d0020f042aa",
   "metadata": {},
   "outputs": [],
   "source": [
    "model = LogisticRegression(random_state=16)"
   ]
  },
  {
   "cell_type": "markdown",
   "id": "68e30890-bed9-4285-8d4a-4d17858cda15",
   "metadata": {},
   "source": [
    "## Melatih Model dengan Data"
   ]
  },
  {
   "cell_type": "code",
   "execution_count": 77,
   "id": "36bc537e-b15b-428e-91b0-553da6fc583b",
   "metadata": {},
   "outputs": [],
   "source": [
    "model.fit(X_train, y_train)\n",
    "y_pred = model.predict(X_test)"
   ]
  },
  {
   "cell_type": "markdown",
   "id": "119e26fb-78a5-4222-9943-cf1d6a4e3bdf",
   "metadata": {},
   "source": [
    "## Melihat hasil akurasi"
   ]
  },
  {
   "cell_type": "code",
   "execution_count": 78,
   "id": "98a558d5-0a81-4f0b-848b-d7b1989dd284",
   "metadata": {},
   "outputs": [
    {
     "name": "stdout",
     "output_type": "stream",
     "text": [
      "Akurasi: 86.55%\n",
      "Confusion Matrix:\n",
      "[[62  2  0  0  0  0  0]\n",
      " [11 53  8  1  0  0  0]\n",
      " [ 0  7 51 10  1  0  0]\n",
      " [ 0  1  7 58  2  0  1]\n",
      " [ 0  0  1  2 76 13  0]\n",
      " [ 0  0  0  0  3 73  1]\n",
      " [ 0  0  0  0  0  0 84]]\n",
      "Classification Report:\n",
      "              precision    recall  f1-score   support\n",
      "\n",
      "           0       0.85      0.97      0.91        64\n",
      "           1       0.84      0.73      0.78        73\n",
      "           2       0.76      0.74      0.75        69\n",
      "           3       0.82      0.84      0.83        69\n",
      "           4       0.93      0.83      0.87        92\n",
      "           5       0.85      0.95      0.90        77\n",
      "           6       0.98      1.00      0.99        84\n",
      "\n",
      "    accuracy                           0.87       528\n",
      "   macro avg       0.86      0.86      0.86       528\n",
      "weighted avg       0.87      0.87      0.86       528\n",
      "\n"
     ]
    }
   ],
   "source": [
    "accuracy = accuracy_score(y_test, y_pred)\n",
    "print(f'Akurasi: {accuracy * 100:.2f}%')\n",
    "\n",
    "print('Confusion Matrix:')\n",
    "print(confusion_matrix(y_test, y_pred))\n",
    "\n",
    "print('Classification Report:')\n",
    "print(classification_report(y_test, y_pred))"
   ]
  },
  {
   "cell_type": "code",
   "execution_count": 94,
   "id": "82c79794-ed4e-4650-b8e9-823949a25614",
   "metadata": {},
   "outputs": [
    {
     "name": "stdout",
     "output_type": "stream",
     "text": [
      "Predicted Classes: [4 3 4 5 6 3 2 2 2 5 4 2 6 5 4 6 1 4 3 0 0 3 6 0 5 5 0 6 2 0 6 1 6 4 2 4 5\n",
      " 4 0 3 1 0 5 0 6 6 1 6 3 5 5 3 4 1 6 0 5 4 4 0 1 2 6 4 0 5 1 3 5 1 6 4 0 1\n",
      " 2 0 5 6 5 3 0 2 6 4 6 6 4 4 1 3 3 4 0 1 5 1 0 1 0 3 6 4 5 3 3 6 4 3 4 6 2\n",
      " 6 5 5 5 0 0 2 5 0 6 2 1 3 6 2 2 4 6 5 5 6 3 5 2 4 1 1 3 2 6 6 3 1 6 1 6 5\n",
      " 5 3 4 0 6 6 6 1 2 5 0 5 5 6 4 2 1 0 1 1 3 1 2 3 6 2 3 5 1 0 4 5 4 2 2 0 1\n",
      " 6 4 6 5 6 6 2 0 1 0 2 5 5 6 6 0 3 0 5 0 4 6 1 4 1 2 6 2 2 6 1 2 5 3 2 4 0\n",
      " 1 1 5 3 4 5 0 5 3 0 2 4 5 4 5 3 3 4 6 2 5 2 4 2 4 3 1 4 1 2 6 1 0 0 0 0 5\n",
      " 2 3 5 0 2 3 1 0 4 6 4 2 4 5 6 5 0 1 5 6 0 0 4 0 5 5 6 5 4 4 2 2 2 3 2 6 5\n",
      " 4 6 4 5 6 3 3 1 5 6 2 5 4 1 5 1 5 5 4 6 0 3 5 2 5 2 3 4 3 3 1 6 6 4 2 3 1\n",
      " 4 3 0 2 0 1 5 6 2 5 2 5 6 2 3 5 4 5 6 3 5 6 5 3 5 5 0 1 4 0 4 2 4 0 0 5 4\n",
      " 6 3 3 4 3 3 0 4 5 4 2 3 0 1 4 0 3 4 3 4 4 0 4 1 5 6 6 6 6 2 3 1 6 2 3 0 2\n",
      " 2 6 2 6 4 3 0 0 5 2 2 5 3 3 2 4 0 1 2 3 4 1 6 4 6 3 6 3 5 4 1 4 3 4 4 0 2\n",
      " 4 1 3 6 1 0 1 2 5 4 4 1 3 6 1 4 1 6 6 0 1 4 6 6 6 5 6 5 3 6 0 6 0 0 2 4 5\n",
      " 4 5 0 0 2 5 1 1 1 6 5 0 5 6 0 5 2 3 6 6 1 0 1 5 3 2 3 5 3 3 6 1 4 4 4 0 5\n",
      " 5 3 4 2 0 0 3 1 3 0]\n",
      "True Classes: [4 3 4 5 6 3 2 2 2 5 4 2 6 5 4 6 1 4 3 0 0 3 6 1 5 5 0 6 3 0 6 1 6 4 2 4 5\n",
      " 4 0 3 1 0 5 0 6 6 1 6 3 4 5 3 4 3 6 0 5 4 4 0 1 2 3 4 0 5 1 2 5 2 6 4 1 0\n",
      " 2 0 5 6 5 3 0 3 5 4 6 6 4 4 1 3 3 4 0 1 5 1 0 1 0 2 6 4 4 3 3 6 4 3 5 6 2\n",
      " 6 5 5 4 1 1 2 5 0 6 2 1 3 6 1 2 4 6 5 5 6 3 5 2 4 1 1 3 2 6 6 3 1 6 1 6 5\n",
      " 5 3 4 0 6 6 6 1 2 5 0 5 4 6 4 2 1 0 1 1 3 1 3 3 6 2 3 4 1 0 4 5 4 4 2 0 1\n",
      " 6 4 6 5 6 6 2 0 1 0 2 5 5 6 6 1 3 0 5 0 4 6 1 4 1 2 6 2 2 6 2 2 5 3 2 4 0\n",
      " 1 0 5 3 4 5 0 4 4 0 2 4 5 4 5 3 3 4 6 2 5 2 5 2 4 1 1 4 2 2 6 1 0 0 0 0 5\n",
      " 2 3 5 0 2 3 1 1 5 6 4 2 4 5 6 5 0 1 5 6 0 0 4 0 5 5 6 5 4 4 2 2 2 2 1 6 4\n",
      " 4 6 4 5 6 3 3 1 5 6 2 5 4 1 5 2 4 5 4 6 0 3 5 2 4 2 2 4 2 3 1 6 6 4 1 3 1\n",
      " 4 3 0 2 0 1 5 6 2 5 1 5 6 2 3 5 4 5 6 3 5 6 5 4 4 5 0 1 4 0 4 2 4 0 1 5 4\n",
      " 6 3 3 4 3 3 0 4 5 4 3 3 0 1 4 0 3 4 3 4 4 0 2 2 5 6 6 6 6 3 2 1 6 2 2 0 1\n",
      " 3 6 2 6 4 3 0 1 5 2 1 5 3 3 2 4 0 1 2 3 4 1 6 4 6 3 6 3 5 4 1 4 3 4 3 1 2\n",
      " 4 2 3 6 1 0 1 1 5 4 4 1 3 6 1 4 1 6 6 1 1 4 6 6 6 5 6 4 2 6 0 6 1 0 2 4 5\n",
      " 4 5 0 0 3 5 1 1 2 6 5 0 5 6 0 4 2 3 6 6 1 0 1 5 3 1 2 5 3 2 6 1 3 4 4 0 5\n",
      " 4 3 4 2 0 0 3 1 3 0]\n",
      "Classification Report:\n",
      "              precision    recall  f1-score   support\n",
      "\n",
      "           0       0.97      0.85      0.91        73\n",
      "           1       0.73      0.84      0.78        63\n",
      "           2       0.74      0.76      0.75        67\n",
      "           3       0.84      0.82      0.83        71\n",
      "           4       0.83      0.93      0.87        82\n",
      "           5       0.95      0.85      0.90        86\n",
      "           6       1.00      0.98      0.99        86\n",
      "\n",
      "    accuracy                           0.87       528\n",
      "   macro avg       0.86      0.86      0.86       528\n",
      "weighted avg       0.87      0.87      0.87       528\n",
      "\n"
     ]
    },
    {
     "data": {
      "image/png": "[encoded data removed]",
      "text/plain": [
       "<Figure size 640x480 with 2 Axes>"
      ]
     },
     "metadata": {},
     "output_type": "display_data"
    }
   ],
   "source": [
    "y_pred = model.predict(X_test)\n",
    "# y_pred_classes = np.argmax(y_pred, axis=2)  # Konversi one-hot encoding ke label\n",
    "# y_true_classes = np.argmax(y_test, axis=1)\n",
    "\n",
    "# # Contoh hasil prediksi\n",
    "print(\"Predicted Classes:\", y_pred)\n",
    "print(\"True Classes:\", np.array(y_test))\n",
    "\n",
    "# Confusion matrix\n",
    "# print(\"Confusion Matrix:\")\n",
    "# print()\n",
    "sns.heatmap(confusion_matrix(y_pred, np.array(y_test)), annot=True)\n",
    "\n",
    "# Classification report\n",
    "print(\"Classification Report:\")\n",
    "print(classification_report(y_pred, np.array(y_test)))"
   ]
  },
  {
   "cell_type": "code",
   "execution_count": 67,
   "id": "65e896a6-6727-4d0e-a311-883b46b632e4",
   "metadata": {},
   "outputs": [
    {
     "data": {
      "text/plain": [
       "Gender                              int64\n",
       "Age                                 int64\n",
       "Height                            float64\n",
       "Weight                            float64\n",
       "family_history_with_overweight      int64\n",
       "FAVC                                int64\n",
       "FCVC                              float64\n",
       "NCP                               float64\n",
       "CAEC                                int64\n",
       "SMOKE                               int64\n",
       "CH2O                              float64\n",
       "SCC                                 int64\n",
       "FAF                               float64\n",
       "TUE                               float64\n",
       "CALC                                int64\n",
       "MTRANS                              int64\n",
       "NObeyesdad                          int64\n",
       "dtype: object"
      ]
     },
     "execution_count": 67,
     "metadata": {},
     "output_type": "execute_result"
    }
   ],
   "source": [
    "df.dtypes"
   ]
  },
  {
   "cell_type": "markdown",
   "id": "bbf965b5-6189-45ac-ab81-855f1783b7bd",
   "metadata": {},
   "source": [
    "## TES PREDIKSI"
   ]
  },
  {
   "cell_type": "code",
   "execution_count": 87,
   "id": "3df19aaf-4a2b-4aa9-9906-0875b8d7e267",
   "metadata": {},
   "outputs": [
    {
     "name": "stdout",
     "output_type": "stream",
     "text": [
      "Hasil data menunjukkan anda Obesity Type II\n"
     ]
    }
   ],
   "source": [
    "# 1, 21, 1.62, 64.0, 1, 0, 2.0, 3.0, 0, 0, 2.0, 0, 0.0, 1.0, 1, 3\n",
    "# 0, 27, 1.80, 87.0, 0, 0, 3.0, 3.0, 1, 0, 2.0, 0, 2.0, 0.0, 2, 4\n",
    "# Asli: 1, 27, 164, 60, 0, 0, 1, 3, 3, 0, 3, 0, 2, 3, 1, 4\n",
    "pasien_obesitas = np.array([[0, 27, 1.80, 87.0, 0, 0, 3.0, 3.0, 1, 0, 2.0, 0, 2.0, 0.0, 2, 4]])\n",
    "result = model.predict(pasien_obesitas)\n",
    "\n",
    "if result[0] == 0:\n",
    "    print(\"Hasil data menunjukkan anda Insufficient Weight\")\n",
    "elif result[0] == 1:\n",
    "    print(\"Hasil data menunjukkan anda  Normal Weight\")\n",
    "elif result[0] == 2:\n",
    "    print(\"Hasil data menunjukkan anda Overweight Level I\")\n",
    "elif result[0] == 3:\n",
    "    print(\"Hasil data menunjukkan anda Overweight Level II\")\n",
    "elif result[0] == 4:\n",
    "    print(\"Hasil data menunjukkan anda Obesity Type I\")\n",
    "elif result[0] == 5:\n",
    "    print(\"Hasil data menunjukkan anda Obesity Type II\")\n",
    "elif result[0] == 6:\n",
    "    print(\"Hasil data menunjukkan anda Obesity Type III\")"
   ]
  },
  {
   "cell_type": "code",
   "execution_count": 213,
   "id": "52777834-01e2-4bd7-87f6-3e4e0813a218",
   "metadata": {},
   "outputs": [
    {
     "name": "stdout",
     "output_type": "stream",
     "text": [
      "[5]\n",
      "Hasil data menunjukkan anda Obesity Type II\n"
     ]
    }
   ],
   "source": [
    "pasien_obesitas = np.array([[1, 40, 2.00, 0, 1, 0, 2, 3, 0, 0, 2, 0, 0, 1, 1, 3]])\n",
    "result = model.predict(pasien_obesitas)\n",
    "print(result)\n",
    "if result[0] == 0:\n",
    "    print(\"Hasil data menunjukkan anda Insufficient Weight\")\n",
    "elif result[0] == 1:\n",
    "    print(\"Hasil data menunjukkan anda  Normal Weight\")\n",
    "elif result[0] == 2:\n",
    "    print(\"Hasil data menunjukkan anda Overweight Level I\")\n",
    "elif result[0] == 3:\n",
    "    print(\"Hasil data menunjukkan anda Overweight Level II\")\n",
    "elif result[0] == 4:\n",
    "    print(\"Hasil data menunjukkan anda Obesity Type I\")\n",
    "elif result[0] == 5:\n",
    "    print(\"Hasil data menunjukkan anda Obesity Type II\")\n",
    "elif result[0] == 6:\n",
    "    print(\"Hasil data menunjukkan anda Obesity Type III\")"
   ]
  },
  {
   "cell_type": "code",
   "execution_count": null,
   "id": "871382d7-d276-4e57-a938-3734e5830ef3",
   "metadata": {},
   "outputs": [],
   "source": []
  }
 ],
 "metadata": {
  "kernelspec": {
   "display_name": "Python 3 (ipykernel)",
   "language": "python",
   "name": "python3"
  },
  "language_info": {
   "codemirror_mode": {
    "name": "ipython",
    "version": 3
   },
   "file_extension": ".py",
   "mimetype": "text/x-python",
   "name": "python",
   "nbconvert_exporter": "python",
   "pygments_lexer": "ipython3",
   "version": "3.12.5"
  }
 },
 "nbformat": 4,
 "nbformat_minor": 5
}
